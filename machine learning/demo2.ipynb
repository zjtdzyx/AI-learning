{
 "cells": [
  {
   "cell_type": "code",
   "execution_count": 5,
   "id": "db1b2633-f2a7-4b57-b01d-6eb10a0bed5d",
   "metadata": {},
   "outputs": [
    {
     "name": "stdout",
     "output_type": "stream",
     "text": [
      "dict_keys(['data', 'target', 'frame', 'target_names', 'DESCR', 'feature_names', 'filename', 'data_module'])\n"
     ]
    }
   ],
   "source": [
    "import numpy as np\n",
    "import pandas as pd\n",
    "from sklearn.datasets import load_iris\n",
    "\n",
    "iris = load_iris()\n",
    "\n",
    "print (iris.keys())"
   ]
  },
  {
   "cell_type": "markdown",
   "id": "8440c562-f29c-4acc-b4ee-bfa327c8797a",
   "metadata": {},
   "source": [
    "numpy np 是用来进行矩阵或者数组计算的\n",
    "pandas pd 是用来进行表格操作的\n",
    "iris 包含数据 目标值 目标名称 等等 但现在不是很理解目标"
   ]
  },
  {
   "cell_type": "code",
   "execution_count": 10,
   "id": "cd0a4786-d1b1-4df4-86eb-2b24371b1bec",
   "metadata": {},
   "outputs": [
    {
     "name": "stdout",
     "output_type": "stream",
     "text": [
      "   sepal length (cm)  sepal width (cm)  petal length (cm)  petal width (cm)  \\\n",
      "0                5.1               3.5                1.4               0.2   \n",
      "1                4.9               3.0                1.4               0.2   \n",
      "2                4.7               3.2                1.3               0.2   \n",
      "3                4.6               3.1                1.5               0.2   \n",
      "4                5.0               3.6                1.4               0.2   \n",
      "\n",
      "   target  \n",
      "0       0  \n",
      "1       0  \n",
      "2       0  \n",
      "3       0  \n",
      "4       0  \n"
     ]
    }
   ],
   "source": [
    "# 将数据和标签构造为DataFrame\n",
    "df = pd.DataFrame(iris.data,columns=iris.feature_names)\n",
    "\n",
    "# 添加目标列\n",
    "df['target'] = iris.target\n",
    "\n",
    "# 查看前5行\n",
    "print(df.head())"
   ]
  },
  {
   "cell_type": "code",
   "execution_count": 12,
   "id": "0c93f872-0b34-43d1-baf3-39f455b20f5d",
   "metadata": {},
   "outputs": [
    {
     "name": "stdout",
     "output_type": "stream",
     "text": [
      "数据集维度：(150, 5)\n",
      "\n",
      "数据类型：\n",
      "sepal length (cm)    float64\n",
      "sepal width (cm)     float64\n",
      "petal length (cm)    float64\n",
      "petal width (cm)     float64\n",
      "target                 int32\n",
      "dtype: object\n",
      "\n",
      "缺失值检查：\n",
      "sepal length (cm)    0\n",
      "sepal width (cm)     0\n",
      "petal length (cm)    0\n",
      "petal width (cm)     0\n",
      "target               0\n",
      "dtype: int64\n",
      "\n",
      "统计信息：\n",
      "       sepal length (cm)  sepal width (cm)  petal length (cm)  \\\n",
      "count         150.000000        150.000000         150.000000   \n",
      "mean            5.843333          3.057333           3.758000   \n",
      "std             0.828066          0.435866           1.765298   \n",
      "min             4.300000          2.000000           1.000000   \n",
      "25%             5.100000          2.800000           1.600000   \n",
      "50%             5.800000          3.000000           4.350000   \n",
      "75%             6.400000          3.300000           5.100000   \n",
      "max             7.900000          4.400000           6.900000   \n",
      "\n",
      "       petal width (cm)      target  \n",
      "count        150.000000  150.000000  \n",
      "mean           1.199333    1.000000  \n",
      "std            0.762238    0.819232  \n",
      "min            0.100000    0.000000  \n",
      "25%            0.300000    0.000000  \n",
      "50%            1.300000    1.000000  \n",
      "75%            1.800000    2.000000  \n",
      "max            2.500000    2.000000  \n"
     ]
    }
   ],
   "source": [
    "# 数据集维度\n",
    "print(f\"数据集维度：{df.shape}\")\n",
    "\n",
    "# 数据类型\n",
    "print(f\"\\n数据类型：\\n{df.dtypes}\")\n",
    "\n",
    "# 缺失值检查\n",
    "print(f\"\\n缺失值检查：\\n{df.isnull().sum()}\")\n",
    "\n",
    "# 数据集统计信息\n",
    "print(f\"\\n统计信息：\\n{df.describe()}\")\n"
   ]
  },
  {
   "cell_type": "code",
   "execution_count": null,
   "id": "d9b861b8-75eb-40c6-b528-edbf3c97805a",
   "metadata": {},
   "outputs": [],
   "source": []
  }
 ],
 "metadata": {
  "kernelspec": {
   "display_name": "Python 3 (ipykernel)",
   "language": "python",
   "name": "python3"
  },
  "language_info": {
   "codemirror_mode": {
    "name": "ipython",
    "version": 3
   },
   "file_extension": ".py",
   "mimetype": "text/x-python",
   "name": "python",
   "nbconvert_exporter": "python",
   "pygments_lexer": "ipython3",
   "version": "3.12.3"
  }
 },
 "nbformat": 4,
 "nbformat_minor": 5
}
