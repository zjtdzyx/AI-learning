{
 "cells": [
  {
   "cell_type": "code",
   "execution_count": 7,
   "id": "b120199b-6c6a-4e63-bb09-9b5e69450a36",
   "metadata": {},
   "outputs": [
    {
     "name": "stdout",
     "output_type": "stream",
     "text": [
      "hello world!\n"
     ]
    }
   ],
   "source": [
    "import numpy as np\n",
    "import pandas as pd\n",
    "import matplotlib.pyplot as plt\n",
    "import seaborn as sns\n",
    "from sklearn.datasets import load_iris\n",
    "\n",
    "print(\"hello world!\")\n"
   ]
  },
  {
   "cell_type": "markdown",
   "id": "c0eb0deb-c51f-49a0-8a41-580ca9f933b0",
   "metadata": {},
   "source": [
    "# 机器学习笔记\n",
    "\n",
    "这是我的一次notebook！！！"
   ]
  },
  {
   "cell_type": "code",
   "execution_count": null,
   "id": "ea6f7a66-d7db-4c92-9acd-efc7dd9c8f41",
   "metadata": {},
   "outputs": [],
   "source": []
  },
  {
   "cell_type": "code",
   "execution_count": null,
   "id": "147ec26b-81d2-4995-baf7-8f31ab94341c",
   "metadata": {},
   "outputs": [],
   "source": [
    "    "
   ]
  }
 ],
 "metadata": {
  "kernelspec": {
   "display_name": "Python 3 (ipykernel)",
   "language": "python",
   "name": "python3"
  },
  "language_info": {
   "codemirror_mode": {
    "name": "ipython",
    "version": 3
   },
   "file_extension": ".py",
   "mimetype": "text/x-python",
   "name": "python",
   "nbconvert_exporter": "python",
   "pygments_lexer": "ipython3",
   "version": "3.12.3"
  }
 },
 "nbformat": 4,
 "nbformat_minor": 5
}
